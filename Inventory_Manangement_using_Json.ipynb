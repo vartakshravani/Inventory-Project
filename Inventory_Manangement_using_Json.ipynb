{
  "nbformat": 4,
  "nbformat_minor": 0,
  "metadata": {
    "colab": {
      "name": "Inventory Manangement using Json.ipynb",
      "provenance": []
    },
    "kernelspec": {
      "name": "python3",
      "display_name": "Python 3"
    },
    "language_info": {
      "name": "python"
    }
  },
  "cells": [
    {
      "cell_type": "code",
      "metadata": {
        "id": "KdjfnC5Y1x_f"
      },
      "source": [
        "import json\n",
        "\n",
        "sum=0\n",
        "value=0\n",
        "total value=0\n",
        "\n",
        "stock = { 111001:{\"pname\": \"Jeans\",\"pprice\": 400,\"pcategory\": \"Clothing\",\"discount\":0,\"qty\": 100},\n",
        "          111002:{\"pname\": \"Veg Pizza\",\"pprice\": 125,\"pcategory\": \"Food\",\"discount\":10,\"qty\": 100},\n",
        "          111003:{\"pname\": \"Bracelet\",\"pprice\": 559,\"pcategory\": \"Accessories\",\"discount\":5,\"qty\": 100},\n",
        "          111004:{\"pname\": \"Nike Shoes\",\"pprice\": 3999,\"pcategory\": \"Footwear\",\"discount\":15,\"qty\": 100},\n",
        "          111005:{\"pname\": \"Pants\",\"pprice\": 390,\"pcategory\": \"Clothing\",\"discount\":0,\"qty\": 100},\n",
        "          111006:{\"pname\": \"Hoodie\",\"pprice\": 899,\"pcategory\": \"Clothing\",\"discount\":5,\"qty\": 100},\n",
        "          111007:{\"pname\": \"Cheese Pizza\",\"pprice\": 400,\"pcategory\": \"Food\",\"discount\":3,\"qty\": 100},\n",
        "          111008:{\"pname\": \"Non-Veg Pizza\",\"pprice\": 450,\"pcategory\": \"Food\",\"discount\":6,\"qty\": 100},\n",
        "          111009:{\"pname\": \"Noodles Pkt\",\"pprice\": 125,\"pcategory\": \"Food\",\"discount\":0,\"qty\": 100},\n",
        "          111010:{\"pname\": \"Burger\",\"pprice\": 399,\"pcategory\": \"Food\",\"discount\":2,\"qty\": 100},\n",
        "          111011:{\"pname\": \"Choco Lava Cake\",\"pprice\": 688,\"pcategory\": \"Food\",\"discount\":11,\"qty\": 100},\n",
        "          111012:{\"pname\": \"Red Velvet Cake\",\"pprice\": 780,\"pcategory\": \"Food\",\"discount\":8,\"qty\": 100},\n",
        "          111013:{\"pname\": \"Cheese Burger\",\"pprice\": 420,\"pcategory\": \"Food\",\"discount\":0,\"qty\": 100},\n",
        "          111014:{\"pname\": \"Puma Shoes\",\"pprice\": 4999,\"pcategory\": \"Footwear\",\"discount\":15,\"qty\": 100},\n",
        "          111015:{\"pname\": \"Sneakers\",\"pprice\": 3999,\"pcategory\": \"Footwear\",\"discount\":15,\"qty\": 100},\n",
        "          111016:{\"pname\": \"Sandals\",\"pprice\": 999,\"pcategory\": \"Footwear\",\"discount\":10,\"qty\": 100},\n",
        "          111017:{\"pname\": \"Loafers\",\"pprice\": 1999,\"pcategory\": \"Footwear\",\"discount\":3,\"qty\": 100},\n",
        "          111018:{\"pname\": \"Heels\",\"pprice\": 999,\"pcategory\": \"Footwear\",\"discount\":11,\"qty\": 100},\n",
        "          111019:{\"pname\": \"Earrings\",\"pprice\": 559,\"pcategory\": \"Accessories\",\"discount\":5,\"qty\": 100},\n",
        "          111020:{\"pname\": \"Headphones\",\"pprice\": 400,\"pcategory\": \"Accessories\",\"discount\":0,\"qty\": 100},\n",
        "          111021:{\"pname\": \"Umbrella\",\"pprice\": 300,\"pcategory\": \"Accessories\",\"discount\":0,\"qty\": 100},\n",
        "          111022:{\"pname\": \"Sunglasses\",\"pprice\": 359,\"pcategory\": \"Accessories\",\"discount\":0,\"qty\": 100},\n",
        "          111023:{\"pname\": \"Bracelet\",\"pprice\": 559,\"pcategory\": \"Accessories\",\"discount\":5,\"qty\": 100},\n",
        "          111024:{\"pname\": \"Bag\",\"pprice\": 859,\"pcategory\": \"Accessories\",\"discount\":0,\"qty\": 100},\n",
        "          111025:{\"pname\": \"Sweatshirt\",\"pprice\": 999,\"pcategory\": \"Clothing\",\"discount\":5,\"qty\": 100},\n",
        "          111026:{\"pname\": \"Blazzer\",\"pprice\": 899,\"pcategory\": \"Clothing\",\"discount\":0,\"qty\": 100},\n",
        "          111027:{\"pname\": \"Ballet Flats\",\"pprice\": 999,\"pcategory\": \"Footwear\",\"discount\":10,\"qty\": 100},\n",
        "          111028:{\"pname\": \"Slippers\",\"pprice\": 499,\"pcategory\": \"Footwear\",\"discount\":0,\"qty\": 100},\n",
        "          111029:{\"pname\": \"Veg Frankie\",\"pprice\": 200,\"pcategory\": \"Food\",\"discount\":3,\"qty\": 100},\n",
        "          111030:{\"pname\": \"Non-Veg Frankie\",\"pprice\": 300,\"pcategory\": \"Food\",\"discount\":0,\"qty\": 100} }\n",
        "\n",
        "\n",
        "qxt=json.dumps(store)\n",
        "fb=open(\"Records.json\",'w')\n",
        "fb.write(qxt)\n",
        "fb.close()"
      ],
      "execution_count": 22,
      "outputs": []
    },
    {
      "cell_type": "code",
      "metadata": {
        "id": "uxG5vLgh5CTa"
      },
      "source": [
        "fd=open(\"Records.json\",'r')\n",
        "s=fd.read()\n",
        "fd.close()\n",
        "store= json.loads(s)"
      ],
      "execution_count": 17,
      "outputs": []
    },
    {
      "cell_type": "code",
      "metadata": {
        "colab": {
          "base_uri": "https://localhost:8080/"
        },
        "id": "a_IGLdDE5IEj",
        "outputId": "e6f486af-7318-4880-ac8b-12f61cb9a613"
      },
      "source": [
        "stock"
      ],
      "execution_count": 7,
      "outputs": [
        {
          "output_type": "execute_result",
          "data": {
            "text/plain": [
              "{111001: {'discount': 0,\n",
              "  'pcategory': 'Clothing',\n",
              "  'pname': 'Jeans',\n",
              "  'pprice': 400,\n",
              "  'qty': 100},\n",
              " 111002: {'discount': 10,\n",
              "  'pcategory': 'Food',\n",
              "  'pname': 'Veg Pizza',\n",
              "  'pprice': 125,\n",
              "  'qty': 100},\n",
              " 111003: {'discount': 5,\n",
              "  'pcategory': 'Accessories',\n",
              "  'pname': 'Bracelet',\n",
              "  'pprice': 559,\n",
              "  'qty': 100},\n",
              " 111004: {'discount': 15,\n",
              "  'pcategory': 'Footwear',\n",
              "  'pname': 'Nike Shoes',\n",
              "  'pprice': 3999,\n",
              "  'qty': 100},\n",
              " 111005: {'discount': 0,\n",
              "  'pcategory': 'Clothing',\n",
              "  'pname': 'Cheese Piza',\n",
              "  'pprice': 390,\n",
              "  'qty': 100}}"
            ]
          },
          "metadata": {},
          "execution_count": 7
        }
      ]
    },
    {
      "cell_type": "code",
      "metadata": {
        "colab": {
          "base_uri": "https://localhost:8080/"
        },
        "id": "uEtcpqIO5wbg",
        "outputId": "b0ae9e3d-9c00-4b02-b595-c838f886b9b5"
      },
      "source": [
        "idy=input(\"Choose your identity:Dealer or Customer: \")"
      ],
      "execution_count": 9,
      "outputs": [
        {
          "name": "stdout",
          "output_type": "stream",
          "text": [
            "Choose your identity:Dealer or Customer: Customer\n"
          ]
        }
      ]
    },
    {
      "cell_type": "code",
      "metadata": {
        "id": "xKFJeblx5wea"
      },
      "source": [
        "if idy==\"Dealer\":\n",
        "   pid=input(\"Enter Product id: \")\n",
        "   pname=input(\"Enter product name: \")\n",
        "   pprice=int(input(\"Enter product price: \"))\n",
        "   pcategory= input(\"Enter product category: \")\n",
        "   discount=int(input(\"Enter discount in percentage: \"))\n",
        "   qty=int(input(\"Enter Product Quantity: \"))\n",
        "   if pid in stock:\n",
        "      stock[pid]['qty']+=qty\n",
        "   else:\n",
        "     stock[pid]={\"pname\":pname,\"pprice\":pprice,\"pcategory\":pcategory,\"discount\":discount,\"qty\":qty}\n",
        "   import json\n",
        "   qxt=json.dumps(store)\n",
        "   fb=open(\"Records.json\",'w')\n",
        "   fb.write(qxt)\n",
        "   fb.close()"
      ],
      "execution_count": 14,
      "outputs": []
    },
    {
      "cell_type": "code",
      "metadata": {
        "id": "pCvsvw1A8lYR"
      },
      "source": [
        "import json\n",
        "qxt=json.dumps(store)\n",
        "fb=open(\"Records.json\",'w')\n",
        "fb.write(qxt)\n",
        "fb.close()"
      ],
      "execution_count": 15,
      "outputs": []
    },
    {
      "cell_type": "code",
      "metadata": {
        "colab": {
          "base_uri": "https://localhost:8080/"
        },
        "id": "qxZeOr7D8rMX",
        "outputId": "31491e84-c4cd-41e0-cbfe-e1f61f286f0e"
      },
      "source": [
        "stock"
      ],
      "execution_count": 23,
      "outputs": [
        {
          "output_type": "execute_result",
          "data": {
            "text/plain": [
              "{111001: {'discount': 0,\n",
              "  'pcategory': 'Clothing',\n",
              "  'pname': 'Jeans',\n",
              "  'pprice': 400,\n",
              "  'qty': 100},\n",
              " 111002: {'discount': 10,\n",
              "  'pcategory': 'Food',\n",
              "  'pname': 'Veg Pizza',\n",
              "  'pprice': 125,\n",
              "  'qty': 100},\n",
              " 111003: {'discount': 5,\n",
              "  'pcategory': 'Accessories',\n",
              "  'pname': 'Bracelet',\n",
              "  'pprice': 559,\n",
              "  'qty': 100},\n",
              " 111004: {'discount': 15,\n",
              "  'pcategory': 'Footwear',\n",
              "  'pname': 'Nike Shoes',\n",
              "  'pprice': 3999,\n",
              "  'qty': 100},\n",
              " 111005: {'discount': 0,\n",
              "  'pcategory': 'Clothing',\n",
              "  'pname': 'Pants',\n",
              "  'pprice': 390,\n",
              "  'qty': 100},\n",
              " 111006: {'discount': 5,\n",
              "  'pcategory': 'Clothing',\n",
              "  'pname': 'Hoodie',\n",
              "  'pprice': 899,\n",
              "  'qty': 100},\n",
              " 111007: {'discount': 3,\n",
              "  'pcategory': 'Food',\n",
              "  'pname': 'Cheese Pizza',\n",
              "  'pprice': 400,\n",
              "  'qty': 100},\n",
              " 111008: {'discount': 6,\n",
              "  'pcategory': 'Food',\n",
              "  'pname': 'Non-Veg Pizza',\n",
              "  'pprice': 450,\n",
              "  'qty': 100},\n",
              " 111009: {'discount': 0,\n",
              "  'pcategory': 'Food',\n",
              "  'pname': 'Noodles Pkt',\n",
              "  'pprice': 125,\n",
              "  'qty': 100},\n",
              " 111010: {'discount': 2,\n",
              "  'pcategory': 'Food',\n",
              "  'pname': 'Burger',\n",
              "  'pprice': 399,\n",
              "  'qty': 100},\n",
              " 111011: {'discount': 11,\n",
              "  'pcategory': 'Food',\n",
              "  'pname': 'Choco Lava Cake',\n",
              "  'pprice': 688,\n",
              "  'qty': 100},\n",
              " 111012: {'discount': 8,\n",
              "  'pcategory': 'Food',\n",
              "  'pname': 'Red Velvet Cake',\n",
              "  'pprice': 780,\n",
              "  'qty': 100},\n",
              " 111013: {'discount': 0,\n",
              "  'pcategory': 'Food',\n",
              "  'pname': 'Cheese Burger',\n",
              "  'pprice': 420,\n",
              "  'qty': 100},\n",
              " 111014: {'discount': 15,\n",
              "  'pcategory': 'Footwear',\n",
              "  'pname': 'Puma Shoes',\n",
              "  'pprice': 4999,\n",
              "  'qty': 100},\n",
              " 111015: {'discount': 15,\n",
              "  'pcategory': 'Footwear',\n",
              "  'pname': 'Sneakers',\n",
              "  'pprice': 3999,\n",
              "  'qty': 100},\n",
              " 111016: {'discount': 10,\n",
              "  'pcategory': 'Footwear',\n",
              "  'pname': 'Sandals',\n",
              "  'pprice': 999,\n",
              "  'qty': 100},\n",
              " 111017: {'discount': 3,\n",
              "  'pcategory': 'Footwear',\n",
              "  'pname': 'Loafers',\n",
              "  'pprice': 1999,\n",
              "  'qty': 100},\n",
              " 111018: {'discount': 11,\n",
              "  'pcategory': 'Footwear',\n",
              "  'pname': 'Heels',\n",
              "  'pprice': 999,\n",
              "  'qty': 100},\n",
              " 111019: {'discount': 5,\n",
              "  'pcategory': 'Accessories',\n",
              "  'pname': 'Earrings',\n",
              "  'pprice': 559,\n",
              "  'qty': 100},\n",
              " 111020: {'discount': 0,\n",
              "  'pcategory': 'Accessories',\n",
              "  'pname': 'Headphones',\n",
              "  'pprice': 400,\n",
              "  'qty': 100},\n",
              " 111021: {'discount': 0,\n",
              "  'pcategory': 'Accessories',\n",
              "  'pname': 'Umbrella',\n",
              "  'pprice': 300,\n",
              "  'qty': 100},\n",
              " 111022: {'discount': 0,\n",
              "  'pcategory': 'Accessories',\n",
              "  'pname': 'Sunglasses',\n",
              "  'pprice': 359,\n",
              "  'qty': 100},\n",
              " 111023: {'discount': 5,\n",
              "  'pcategory': 'Accessories',\n",
              "  'pname': 'Bracelet',\n",
              "  'pprice': 559,\n",
              "  'qty': 100},\n",
              " 111024: {'discount': 0,\n",
              "  'pcategory': 'Accessories',\n",
              "  'pname': 'Bag',\n",
              "  'pprice': 859,\n",
              "  'qty': 100},\n",
              " 111025: {'discount': 5,\n",
              "  'pcategory': 'Clothing',\n",
              "  'pname': 'Sweatshirt',\n",
              "  'pprice': 999,\n",
              "  'qty': 100},\n",
              " 111026: {'discount': 0,\n",
              "  'pcategory': 'Clothing',\n",
              "  'pname': 'Blazzer',\n",
              "  'pprice': 899,\n",
              "  'qty': 100},\n",
              " 111027: {'discount': 10,\n",
              "  'pcategory': 'Footwear',\n",
              "  'pname': 'Ballet Flats',\n",
              "  'pprice': 999,\n",
              "  'qty': 100},\n",
              " 111028: {'discount': 0,\n",
              "  'pcategory': 'Footwear',\n",
              "  'pname': 'Slippers',\n",
              "  'pprice': 499,\n",
              "  'qty': 100},\n",
              " 111029: {'discount': 3,\n",
              "  'pcategory': 'Food',\n",
              "  'pname': 'Veg Frankie',\n",
              "  'pprice': 200,\n",
              "  'qty': 100},\n",
              " 111030: {'discount': 0,\n",
              "  'pcategory': 'Food',\n",
              "  'pname': 'Non-Veg Frankie',\n",
              "  'pprice': 300,\n",
              "  'qty': 100}}"
            ]
          },
          "metadata": {},
          "execution_count": 23
        }
      ]
    },
    {
      "cell_type": "code",
      "metadata": {
        "colab": {
          "base_uri": "https://localhost:8080/",
          "height": 536
        },
        "id": "rZ7cNxq09GmN",
        "outputId": "e021f588-1cd8-4d19-bff8-9bb0b68cdb3e"
      },
      "source": [
        "sum=0\n",
        "value=0\n",
        "gross=0\n",
        "\n",
        "if idy==\"Customer\":    \n",
        "  print(\"Here are the items in our stock!\\n\")\n",
        "  print(\"***********************\\n\")\n",
        "  print(\"***********************\\n\")\n",
        "  print(\"\\nPlease choose the products in stock\\n\")\n",
        "  print(stock)\n",
        "  Customer_name=input(\"Enter your Name: \")\n",
        "  n=int(input(\"Enter the product id you would like to buy\"))\n",
        "  for i in range(n):  \n",
        "     pid=input(\"\\nEnter product id you wish to go ahead with \\n\")\n",
        "     print(stock[pid])\n",
        "     quant=int(input(\"Enter Quantity\"))\n",
        "     if quant>stock[pid]['qty']:\n",
        "       print(\"Re-Enter the quantity as these many quantities are not in stock. Sorry for inconvenience!!\")\n",
        "       print(\"We have only \",store[pid]['qty'])\n",
        "     else:  \n",
        "        value=(stock[pid]['pprice']-((stock[pid]['discount']*stock[pid]['pprice'])/100))*quant\n",
        "        sum+=value\n",
        "        gross+=(stock[pid]['price'])*quant\n",
        "        stock[pid]['qty']-=quant\n",
        "        \n",
        "  print(\"Your Total Amount to be paid is: \")\n",
        "  print(\"........................................................\")\n",
        "  print(\"........................................................\")  \n",
        "  print(sum)\n",
        "  print(\"........................................................\")\n",
        "  print(\"........................................................\")\n",
        "  print(\"\\nThank You for shopping. Hope you had a wonderful shopping Visit Again!!\")\n",
        "  import json\n",
        "  j=json.dumps(store)\n",
        "  fe=open(\"Records.json\",'w')\n",
        "  fe.write(j)\n",
        "  fe.close()"
      ],
      "execution_count": 27,
      "outputs": [
        {
          "name": "stdout",
          "output_type": "stream",
          "text": [
            "Here are the items in our stock!\n",
            "\n",
            "***********************\n",
            "\n",
            "***********************\n",
            "\n",
            "\n",
            "Please choose the products in stock\n",
            "\n",
            "{111001: {'pname': 'Jeans', 'pprice': 400, 'pcategory': 'Clothing', 'discount': 0, 'qty': 100}, 111002: {'pname': 'Veg Pizza', 'pprice': 125, 'pcategory': 'Food', 'discount': 10, 'qty': 100}, 111003: {'pname': 'Bracelet', 'pprice': 559, 'pcategory': 'Accessories', 'discount': 5, 'qty': 100}, 111004: {'pname': 'Nike Shoes', 'pprice': 3999, 'pcategory': 'Footwear', 'discount': 15, 'qty': 100}, 111005: {'pname': 'Pants', 'pprice': 390, 'pcategory': 'Clothing', 'discount': 0, 'qty': 100}, 111006: {'pname': 'Hoodie', 'pprice': 899, 'pcategory': 'Clothing', 'discount': 5, 'qty': 100}, 111007: {'pname': 'Cheese Pizza', 'pprice': 400, 'pcategory': 'Food', 'discount': 3, 'qty': 100}, 111008: {'pname': 'Non-Veg Pizza', 'pprice': 450, 'pcategory': 'Food', 'discount': 6, 'qty': 100}, 111009: {'pname': 'Noodles Pkt', 'pprice': 125, 'pcategory': 'Food', 'discount': 0, 'qty': 100}, 111010: {'pname': 'Burger', 'pprice': 399, 'pcategory': 'Food', 'discount': 2, 'qty': 100}, 111011: {'pname': 'Choco Lava Cake', 'pprice': 688, 'pcategory': 'Food', 'discount': 11, 'qty': 100}, 111012: {'pname': 'Red Velvet Cake', 'pprice': 780, 'pcategory': 'Food', 'discount': 8, 'qty': 100}, 111013: {'pname': 'Cheese Burger', 'pprice': 420, 'pcategory': 'Food', 'discount': 0, 'qty': 100}, 111014: {'pname': 'Puma Shoes', 'pprice': 4999, 'pcategory': 'Footwear', 'discount': 15, 'qty': 100}, 111015: {'pname': 'Sneakers', 'pprice': 3999, 'pcategory': 'Footwear', 'discount': 15, 'qty': 100}, 111016: {'pname': 'Sandals', 'pprice': 999, 'pcategory': 'Footwear', 'discount': 10, 'qty': 100}, 111017: {'pname': 'Loafers', 'pprice': 1999, 'pcategory': 'Footwear', 'discount': 3, 'qty': 100}, 111018: {'pname': 'Heels', 'pprice': 999, 'pcategory': 'Footwear', 'discount': 11, 'qty': 100}, 111019: {'pname': 'Earrings', 'pprice': 559, 'pcategory': 'Accessories', 'discount': 5, 'qty': 100}, 111020: {'pname': 'Headphones', 'pprice': 400, 'pcategory': 'Accessories', 'discount': 0, 'qty': 100}, 111021: {'pname': 'Umbrella', 'pprice': 300, 'pcategory': 'Accessories', 'discount': 0, 'qty': 100}, 111022: {'pname': 'Sunglasses', 'pprice': 359, 'pcategory': 'Accessories', 'discount': 0, 'qty': 100}, 111023: {'pname': 'Bracelet', 'pprice': 559, 'pcategory': 'Accessories', 'discount': 5, 'qty': 100}, 111024: {'pname': 'Bag', 'pprice': 859, 'pcategory': 'Accessories', 'discount': 0, 'qty': 100}, 111025: {'pname': 'Sweatshirt', 'pprice': 999, 'pcategory': 'Clothing', 'discount': 5, 'qty': 100}, 111026: {'pname': 'Blazzer', 'pprice': 899, 'pcategory': 'Clothing', 'discount': 0, 'qty': 100}, 111027: {'pname': 'Ballet Flats', 'pprice': 999, 'pcategory': 'Footwear', 'discount': 10, 'qty': 100}, 111028: {'pname': 'Slippers', 'pprice': 499, 'pcategory': 'Footwear', 'discount': 0, 'qty': 100}, 111029: {'pname': 'Veg Frankie', 'pprice': 200, 'pcategory': 'Food', 'discount': 3, 'qty': 100}, 111030: {'pname': 'Non-Veg Frankie', 'pprice': 300, 'pcategory': 'Food', 'discount': 0, 'qty': 100}}\n",
            "Enter your Name: Jenny\n",
            "Enter the product id you would like to buy111007\n",
            "\n",
            "Enter product id you wish to go ahead with \n",
            "111021\n"
          ]
        },
        {
          "output_type": "error",
          "ename": "KeyError",
          "evalue": "ignored",
          "traceback": [
            "\u001b[0;31m---------------------------------------------------------------------------\u001b[0m",
            "\u001b[0;31mKeyError\u001b[0m                                  Traceback (most recent call last)",
            "\u001b[0;32m<ipython-input-27-049af567c8d5>\u001b[0m in \u001b[0;36m<module>\u001b[0;34m()\u001b[0m\n\u001b[1;32m     13\u001b[0m   \u001b[0;32mfor\u001b[0m \u001b[0mi\u001b[0m \u001b[0;32min\u001b[0m \u001b[0mrange\u001b[0m\u001b[0;34m(\u001b[0m\u001b[0mn\u001b[0m\u001b[0;34m)\u001b[0m\u001b[0;34m:\u001b[0m\u001b[0;34m\u001b[0m\u001b[0;34m\u001b[0m\u001b[0m\n\u001b[1;32m     14\u001b[0m      \u001b[0mpid\u001b[0m\u001b[0;34m=\u001b[0m\u001b[0minput\u001b[0m\u001b[0;34m(\u001b[0m\u001b[0;34m\"\\nEnter product id you wish to go ahead with \\n\"\u001b[0m\u001b[0;34m)\u001b[0m\u001b[0;34m\u001b[0m\u001b[0;34m\u001b[0m\u001b[0m\n\u001b[0;32m---> 15\u001b[0;31m      \u001b[0mprint\u001b[0m\u001b[0;34m(\u001b[0m\u001b[0mstock\u001b[0m\u001b[0;34m[\u001b[0m\u001b[0mpid\u001b[0m\u001b[0;34m]\u001b[0m\u001b[0;34m)\u001b[0m\u001b[0;34m\u001b[0m\u001b[0;34m\u001b[0m\u001b[0m\n\u001b[0m\u001b[1;32m     16\u001b[0m      \u001b[0mquant\u001b[0m\u001b[0;34m=\u001b[0m\u001b[0mint\u001b[0m\u001b[0;34m(\u001b[0m\u001b[0minput\u001b[0m\u001b[0;34m(\u001b[0m\u001b[0;34m\"Enter Quantity\"\u001b[0m\u001b[0;34m)\u001b[0m\u001b[0;34m)\u001b[0m\u001b[0;34m\u001b[0m\u001b[0;34m\u001b[0m\u001b[0m\n\u001b[1;32m     17\u001b[0m      \u001b[0;32mif\u001b[0m \u001b[0mquant\u001b[0m\u001b[0;34m>\u001b[0m\u001b[0mstock\u001b[0m\u001b[0;34m[\u001b[0m\u001b[0mpid\u001b[0m\u001b[0;34m]\u001b[0m\u001b[0;34m[\u001b[0m\u001b[0;34m'qty'\u001b[0m\u001b[0;34m]\u001b[0m\u001b[0;34m:\u001b[0m\u001b[0;34m\u001b[0m\u001b[0;34m\u001b[0m\u001b[0m\n",
            "\u001b[0;31mKeyError\u001b[0m: '111021'"
          ]
        }
      ]
    }
  ]
}